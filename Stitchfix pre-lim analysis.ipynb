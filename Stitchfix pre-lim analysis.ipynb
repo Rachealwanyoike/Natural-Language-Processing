{
 "cells": [
  {
   "cell_type": "code",
   "execution_count": 123,
   "id": "63bb2a60",
   "metadata": {},
   "outputs": [],
   "source": [
    "import numpy as np\n",
    "import pandas as pd\n",
    "from sklearn.feature_extraction.text import re\n",
    "import string"
   ]
  },
  {
   "cell_type": "code",
   "execution_count": 124,
   "id": "4dcc2758",
   "metadata": {},
   "outputs": [
    {
     "data": {
      "text/html": [
       "<div>\n",
       "<style scoped>\n",
       "    .dataframe tbody tr th:only-of-type {\n",
       "        vertical-align: middle;\n",
       "    }\n",
       "\n",
       "    .dataframe tbody tr th {\n",
       "        vertical-align: top;\n",
       "    }\n",
       "\n",
       "    .dataframe thead th {\n",
       "        text-align: right;\n",
       "    }\n",
       "</style>\n",
       "<table border=\"1\" class=\"dataframe\">\n",
       "  <thead>\n",
       "    <tr style=\"text-align: right;\">\n",
       "      <th></th>\n",
       "      <th>ratings</th>\n",
       "      <th>reviews</th>\n",
       "    </tr>\n",
       "  </thead>\n",
       "  <tbody>\n",
       "    <tr>\n",
       "      <th>0</th>\n",
       "      <td>5</td>\n",
       "      <td>Stylist took my comments in preview and notes ...</td>\n",
       "    </tr>\n",
       "    <tr>\n",
       "      <th>1</th>\n",
       "      <td>5</td>\n",
       "      <td>Had two boxes so far and I’m so so happy with ...</td>\n",
       "    </tr>\n",
       "    <tr>\n",
       "      <th>2</th>\n",
       "      <td>5</td>\n",
       "      <td>I only had to deliveries till now, but i love ...</td>\n",
       "    </tr>\n",
       "    <tr>\n",
       "      <th>3</th>\n",
       "      <td>5</td>\n",
       "      <td>Great service throughout, flexible and easy to...</td>\n",
       "    </tr>\n",
       "    <tr>\n",
       "      <th>4</th>\n",
       "      <td>1</td>\n",
       "      <td>I was sent a yellow coat in my Stitch Fix. I l...</td>\n",
       "    </tr>\n",
       "    <tr>\n",
       "      <th>...</th>\n",
       "      <td>...</td>\n",
       "      <td>...</td>\n",
       "    </tr>\n",
       "    <tr>\n",
       "      <th>1570</th>\n",
       "      <td>1</td>\n",
       "      <td>Horrible customer service. I tried to sign up ...</td>\n",
       "    </tr>\n",
       "    <tr>\n",
       "      <th>1571</th>\n",
       "      <td>3</td>\n",
       "      <td>I think the boxes are hit or miss. I scheduled...</td>\n",
       "    </tr>\n",
       "    <tr>\n",
       "      <th>1572</th>\n",
       "      <td>2</td>\n",
       "      <td>I was so excited to try stitch fix, but I ende...</td>\n",
       "    </tr>\n",
       "    <tr>\n",
       "      <th>1573</th>\n",
       "      <td>5</td>\n",
       "      <td>I've had about 4 stitch fix boxes now and I ha...</td>\n",
       "    </tr>\n",
       "    <tr>\n",
       "      <th>1574</th>\n",
       "      <td>2</td>\n",
       "      <td>I signed up with stitch fix after my sister wa...</td>\n",
       "    </tr>\n",
       "  </tbody>\n",
       "</table>\n",
       "<p>1575 rows × 2 columns</p>\n",
       "</div>"
      ],
      "text/plain": [
       "      ratings                                            reviews\n",
       "0           5  Stylist took my comments in preview and notes ...\n",
       "1           5  Had two boxes so far and I’m so so happy with ...\n",
       "2           5  I only had to deliveries till now, but i love ...\n",
       "3           5  Great service throughout, flexible and easy to...\n",
       "4           1  I was sent a yellow coat in my Stitch Fix. I l...\n",
       "...       ...                                                ...\n",
       "1570        1  Horrible customer service. I tried to sign up ...\n",
       "1571        3  I think the boxes are hit or miss. I scheduled...\n",
       "1572        2  I was so excited to try stitch fix, but I ende...\n",
       "1573        5  I've had about 4 stitch fix boxes now and I ha...\n",
       "1574        2  I signed up with stitch fix after my sister wa...\n",
       "\n",
       "[1575 rows x 2 columns]"
      ]
     },
     "execution_count": 124,
     "metadata": {},
     "output_type": "execute_result"
    }
   ],
   "source": [
    "review = pd.read_excel(\"C:\\\\Users\\\\rache\\\\OneDrive\\\\Desktop\\\\Practicum Project\\\\Stitch fix reviews.xlsx\")\n",
    "review"
   ]
  },
  {
   "cell_type": "code",
   "execution_count": 125,
   "id": "90b6034d",
   "metadata": {},
   "outputs": [
    {
     "data": {
      "text/html": [
       "<div>\n",
       "<style scoped>\n",
       "    .dataframe tbody tr th:only-of-type {\n",
       "        vertical-align: middle;\n",
       "    }\n",
       "\n",
       "    .dataframe tbody tr th {\n",
       "        vertical-align: top;\n",
       "    }\n",
       "\n",
       "    .dataframe thead th {\n",
       "        text-align: right;\n",
       "    }\n",
       "</style>\n",
       "<table border=\"1\" class=\"dataframe\">\n",
       "  <thead>\n",
       "    <tr style=\"text-align: right;\">\n",
       "      <th></th>\n",
       "      <th>ratings</th>\n",
       "      <th>reviews</th>\n",
       "    </tr>\n",
       "  </thead>\n",
       "  <tbody>\n",
       "    <tr>\n",
       "      <th>0</th>\n",
       "      <td>5</td>\n",
       "      <td>Stylist took my comments in preview and notes ...</td>\n",
       "    </tr>\n",
       "    <tr>\n",
       "      <th>1</th>\n",
       "      <td>5</td>\n",
       "      <td>Had two boxes so far and I’m so so happy with ...</td>\n",
       "    </tr>\n",
       "    <tr>\n",
       "      <th>2</th>\n",
       "      <td>5</td>\n",
       "      <td>I only had to deliveries till now, but i love ...</td>\n",
       "    </tr>\n",
       "    <tr>\n",
       "      <th>3</th>\n",
       "      <td>5</td>\n",
       "      <td>Great service throughout, flexible and easy to...</td>\n",
       "    </tr>\n",
       "    <tr>\n",
       "      <th>4</th>\n",
       "      <td>1</td>\n",
       "      <td>I was sent a yellow coat in my Stitch Fix. I l...</td>\n",
       "    </tr>\n",
       "  </tbody>\n",
       "</table>\n",
       "</div>"
      ],
      "text/plain": [
       "   ratings                                            reviews\n",
       "0        5  Stylist took my comments in preview and notes ...\n",
       "1        5  Had two boxes so far and I’m so so happy with ...\n",
       "2        5  I only had to deliveries till now, but i love ...\n",
       "3        5  Great service throughout, flexible and easy to...\n",
       "4        1  I was sent a yellow coat in my Stitch Fix. I l..."
      ]
     },
     "execution_count": 125,
     "metadata": {},
     "output_type": "execute_result"
    }
   ],
   "source": [
    "reviewdp = review.dropna()\n",
    "reviewdp.head()"
   ]
  },
  {
   "cell_type": "code",
   "execution_count": 126,
   "id": "432229ea",
   "metadata": {},
   "outputs": [
    {
     "data": {
      "text/plain": [
       "1538"
      ]
     },
     "execution_count": 126,
     "metadata": {},
     "output_type": "execute_result"
    }
   ],
   "source": [
    "len(reviewdp)"
   ]
  },
  {
   "cell_type": "code",
   "execution_count": 127,
   "id": "f0dc14dc",
   "metadata": {},
   "outputs": [],
   "source": [
    "def create_sentiment(ratings):\n",
    "    if ratings==1 or ratings==2:\n",
    "        return -1 # negative sentiment\n",
    "    elif ratings==4 or ratings==5:\n",
    "        return 1 # positive sentiment\n",
    "    else:\n",
    "        return 0 # neutral sentiment"
   ]
  },
  {
   "cell_type": "code",
   "execution_count": 128,
   "id": "8480abdf",
   "metadata": {},
   "outputs": [],
   "source": [
    "import warnings\n",
    "warnings.filterwarnings(\"ignore\")"
   ]
  },
  {
   "cell_type": "code",
   "execution_count": 129,
   "id": "9b1bdba7",
   "metadata": {},
   "outputs": [
    {
     "data": {
      "text/html": [
       "<div>\n",
       "<style scoped>\n",
       "    .dataframe tbody tr th:only-of-type {\n",
       "        vertical-align: middle;\n",
       "    }\n",
       "\n",
       "    .dataframe tbody tr th {\n",
       "        vertical-align: top;\n",
       "    }\n",
       "\n",
       "    .dataframe thead th {\n",
       "        text-align: right;\n",
       "    }\n",
       "</style>\n",
       "<table border=\"1\" class=\"dataframe\">\n",
       "  <thead>\n",
       "    <tr style=\"text-align: right;\">\n",
       "      <th></th>\n",
       "      <th>ratings</th>\n",
       "      <th>reviews</th>\n",
       "      <th>sentiment</th>\n",
       "    </tr>\n",
       "  </thead>\n",
       "  <tbody>\n",
       "    <tr>\n",
       "      <th>0</th>\n",
       "      <td>5</td>\n",
       "      <td>Stylist took my comments in preview and notes ...</td>\n",
       "      <td>1</td>\n",
       "    </tr>\n",
       "    <tr>\n",
       "      <th>1</th>\n",
       "      <td>5</td>\n",
       "      <td>Had two boxes so far and I’m so so happy with ...</td>\n",
       "      <td>1</td>\n",
       "    </tr>\n",
       "    <tr>\n",
       "      <th>2</th>\n",
       "      <td>5</td>\n",
       "      <td>I only had to deliveries till now, but i love ...</td>\n",
       "      <td>1</td>\n",
       "    </tr>\n",
       "    <tr>\n",
       "      <th>3</th>\n",
       "      <td>5</td>\n",
       "      <td>Great service throughout, flexible and easy to...</td>\n",
       "      <td>1</td>\n",
       "    </tr>\n",
       "    <tr>\n",
       "      <th>4</th>\n",
       "      <td>1</td>\n",
       "      <td>I was sent a yellow coat in my Stitch Fix. I l...</td>\n",
       "      <td>-1</td>\n",
       "    </tr>\n",
       "  </tbody>\n",
       "</table>\n",
       "</div>"
      ],
      "text/plain": [
       "   ratings                                            reviews  sentiment\n",
       "0        5  Stylist took my comments in preview and notes ...          1\n",
       "1        5  Had two boxes so far and I’m so so happy with ...          1\n",
       "2        5  I only had to deliveries till now, but i love ...          1\n",
       "3        5  Great service throughout, flexible and easy to...          1\n",
       "4        1  I was sent a yellow coat in my Stitch Fix. I l...         -1"
      ]
     },
     "execution_count": 129,
     "metadata": {},
     "output_type": "execute_result"
    }
   ],
   "source": [
    "reviewdp['sentiment'] = reviewdp['ratings'].apply(create_sentiment)\n",
    "reviewdp.head()"
   ]
  },
  {
   "cell_type": "code",
   "execution_count": 130,
   "id": "ce817c5e",
   "metadata": {},
   "outputs": [
    {
     "data": {
      "text/plain": [
       "\"It's easy to get started, just sign up online and fill out profile. I really like this service. Affordable for all you get, fast shipping, items arrive quickly and packing is great. Personalized to fit your needs and style. Customer service is stellar as well. Garments I received I really liked except for one which was easy to send back and switch out.\""
      ]
     },
     "execution_count": 130,
     "metadata": {},
     "output_type": "execute_result"
    }
   ],
   "source": [
    "reviewdp['reviews'][1300]"
   ]
  },
  {
   "cell_type": "code",
   "execution_count": 131,
   "id": "ce75ec76",
   "metadata": {},
   "outputs": [],
   "source": [
    "#change to lowercase\n",
    "reviewdp['reviews'] = reviewdp['reviews'].str.lower()"
   ]
  },
  {
   "cell_type": "code",
   "execution_count": 132,
   "id": "2d520d74",
   "metadata": {},
   "outputs": [
    {
     "data": {
      "text/html": [
       "<div>\n",
       "<style scoped>\n",
       "    .dataframe tbody tr th:only-of-type {\n",
       "        vertical-align: middle;\n",
       "    }\n",
       "\n",
       "    .dataframe tbody tr th {\n",
       "        vertical-align: top;\n",
       "    }\n",
       "\n",
       "    .dataframe thead th {\n",
       "        text-align: right;\n",
       "    }\n",
       "</style>\n",
       "<table border=\"1\" class=\"dataframe\">\n",
       "  <thead>\n",
       "    <tr style=\"text-align: right;\">\n",
       "      <th></th>\n",
       "      <th>ratings</th>\n",
       "      <th>reviews</th>\n",
       "      <th>sentiment</th>\n",
       "    </tr>\n",
       "  </thead>\n",
       "  <tbody>\n",
       "    <tr>\n",
       "      <th>0</th>\n",
       "      <td>5</td>\n",
       "      <td>stylist took my comments in preview and notes ...</td>\n",
       "      <td>1</td>\n",
       "    </tr>\n",
       "    <tr>\n",
       "      <th>1</th>\n",
       "      <td>5</td>\n",
       "      <td>had two boxes so far and i’m so so happy with ...</td>\n",
       "      <td>1</td>\n",
       "    </tr>\n",
       "    <tr>\n",
       "      <th>2</th>\n",
       "      <td>5</td>\n",
       "      <td>i only had to deliveries till now, but i love ...</td>\n",
       "      <td>1</td>\n",
       "    </tr>\n",
       "    <tr>\n",
       "      <th>3</th>\n",
       "      <td>5</td>\n",
       "      <td>great service throughout, flexible and easy to...</td>\n",
       "      <td>1</td>\n",
       "    </tr>\n",
       "    <tr>\n",
       "      <th>4</th>\n",
       "      <td>1</td>\n",
       "      <td>i was sent a yellow coat in my stitch fix. i l...</td>\n",
       "      <td>-1</td>\n",
       "    </tr>\n",
       "  </tbody>\n",
       "</table>\n",
       "</div>"
      ],
      "text/plain": [
       "   ratings                                            reviews  sentiment\n",
       "0        5  stylist took my comments in preview and notes ...          1\n",
       "1        5  had two boxes so far and i’m so so happy with ...          1\n",
       "2        5  i only had to deliveries till now, but i love ...          1\n",
       "3        5  great service throughout, flexible and easy to...          1\n",
       "4        1  i was sent a yellow coat in my stitch fix. i l...         -1"
      ]
     },
     "execution_count": 132,
     "metadata": {},
     "output_type": "execute_result"
    }
   ],
   "source": [
    "reviewdp.head()"
   ]
  },
  {
   "cell_type": "code",
   "execution_count": 136,
   "id": "40eacb74",
   "metadata": {},
   "outputs": [],
   "source": [
    "punct = '!\"#$%&\\'()*+,-./:;<=>?@[\\\\]^_`{}~'   # `|` is not present here\n",
    "transtab = str.maketrans(dict.fromkeys(punct, ''))\n",
    "reviewdp['reviews'] = '|'.join(reviewdp['reviews'].tolist()).translate(transtab).split('|')"
   ]
  },
  {
   "cell_type": "code",
   "execution_count": 137,
   "id": "6cd15ec3",
   "metadata": {},
   "outputs": [
    {
     "data": {
      "text/plain": [
       "'finding stitchfix has been like finding a hidden gem  i always struggle with trying different things on and i’ve had two deliveries from them and kept every single item and booked a third already 🤩🤩 they are perfect and i look forward to receiving there parcel xx'"
      ]
     },
     "execution_count": 137,
     "metadata": {},
     "output_type": "execute_result"
    }
   ],
   "source": [
    "reviewdp['reviews'].loc[744]"
   ]
  },
  {
   "cell_type": "code",
   "execution_count": 138,
   "id": "ef7f41ca",
   "metadata": {},
   "outputs": [],
   "source": [
    "#remove emojis\n",
    "def remove_emoji(reviews):\n",
    "    emoji_pattern = re.compile(\"[\"\n",
    "                               u\"\\U0001F600-\\U0001F64F\"  # emoticons\n",
    "                               u\"\\U0001F300-\\U0001F5FF\"  # symbols & pictographs\n",
    "                               u\"\\U0001F680-\\U0001F6FF\"  # transport & map symbols\n",
    "                               u\"\\U0001F1E0-\\U0001F1FF\"  # flags (iOS)\n",
    "                               u\"\\U00002500-\\U00002BEF\"  # chinese char\n",
    "                               u\"\\U00002702-\\U000027B0\"\n",
    "                               u\"\\U00002702-\\U000027B0\"\n",
    "                               u\"\\U000024C2-\\U0001F251\"\n",
    "                               u\"\\U0001f926-\\U0001f937\"\n",
    "                               u\"\\U00010000-\\U0010ffff\"\n",
    "                               u\"\\u2640-\\u2642\"\n",
    "                               u\"\\u2600-\\u2B55\"\n",
    "                               u\"\\u200d\"\n",
    "                               u\"\\u23cf\"\n",
    "                               u\"\\u23e9\"\n",
    "                               u\"\\u231a\"\n",
    "                               u\"\\ufe0f\"  # dingbats\n",
    "                               u\"\\u3030\"\n",
    "                               \"]+\", flags=re.UNICODE)\n",
    "    return emoji_pattern.sub(r'', reviews)"
   ]
  },
  {
   "cell_type": "code",
   "execution_count": 139,
   "id": "d142ace8",
   "metadata": {},
   "outputs": [],
   "source": [
    "#removing emojis\n",
    "reviewdp['reviews'] = reviewdp['reviews'].apply(remove_emoji)"
   ]
  },
  {
   "cell_type": "code",
   "execution_count": 140,
   "id": "6961e7e1",
   "metadata": {},
   "outputs": [
    {
     "data": {
      "text/plain": [
       "'finding stitchfix has been like finding a hidden gem  i always struggle with trying different things on and i’ve had two deliveries from them and kept every single item and booked a third already  they are perfect and i look forward to receiving there parcel xx'"
      ]
     },
     "execution_count": 140,
     "metadata": {},
     "output_type": "execute_result"
    }
   ],
   "source": [
    "reviewdp['reviews'][744]"
   ]
  },
  {
   "cell_type": "code",
   "execution_count": 146,
   "id": "1e3c53f0",
   "metadata": {},
   "outputs": [],
   "source": [
    "#Convert textual data into a numeric representation\n",
    "from sklearn.feature_extraction.text import TfidfVectorizer\n",
    "\n",
    "tfidf = TfidfVectorizer(strip_accents=None, \n",
    "                        lowercase=False,\n",
    "                        preprocessor=None)\n",
    "\n",
    "X = tfidf.fit_transform(reviewdp['reviews'])"
   ]
  },
  {
   "cell_type": "code",
   "execution_count": 147,
   "id": "a638cafa",
   "metadata": {},
   "outputs": [
    {
     "data": {
      "text/plain": [
       "<1538x4958 sparse matrix of type '<class 'numpy.float64'>'\n",
       "\twith 70156 stored elements in Compressed Sparse Row format>"
      ]
     },
     "execution_count": 147,
     "metadata": {},
     "output_type": "execute_result"
    }
   ],
   "source": [
    "X"
   ]
  }
 ],
 "metadata": {
  "kernelspec": {
   "display_name": "Python 3 (ipykernel)",
   "language": "python",
   "name": "python3"
  },
  "language_info": {
   "codemirror_mode": {
    "name": "ipython",
    "version": 3
   },
   "file_extension": ".py",
   "mimetype": "text/x-python",
   "name": "python",
   "nbconvert_exporter": "python",
   "pygments_lexer": "ipython3",
   "version": "3.9.7"
  }
 },
 "nbformat": 4,
 "nbformat_minor": 5
}
