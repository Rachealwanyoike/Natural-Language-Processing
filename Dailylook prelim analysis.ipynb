{
 "cells": [
  {
   "cell_type": "code",
   "execution_count": 1,
   "id": "8ea6f49a",
   "metadata": {},
   "outputs": [],
   "source": [
    "import numpy as np\n",
    "import pandas as pd\n",
    "from sklearn.feature_extraction.text import re\n",
    "import string"
   ]
  },
  {
   "cell_type": "code",
   "execution_count": 2,
   "id": "63191fe0",
   "metadata": {},
   "outputs": [
    {
     "data": {
      "text/html": [
       "<div>\n",
       "<style scoped>\n",
       "    .dataframe tbody tr th:only-of-type {\n",
       "        vertical-align: middle;\n",
       "    }\n",
       "\n",
       "    .dataframe tbody tr th {\n",
       "        vertical-align: top;\n",
       "    }\n",
       "\n",
       "    .dataframe thead th {\n",
       "        text-align: right;\n",
       "    }\n",
       "</style>\n",
       "<table border=\"1\" class=\"dataframe\">\n",
       "  <thead>\n",
       "    <tr style=\"text-align: right;\">\n",
       "      <th></th>\n",
       "      <th>Rating out of 5</th>\n",
       "      <th>Customer_Reviews</th>\n",
       "    </tr>\n",
       "  </thead>\n",
       "  <tbody>\n",
       "    <tr>\n",
       "      <th>0</th>\n",
       "      <td>5</td>\n",
       "      <td>I love the surprises my stylist sends me in ea...</td>\n",
       "    </tr>\n",
       "    <tr>\n",
       "      <th>1</th>\n",
       "      <td>1</td>\n",
       "      <td>DON’T DO IT!!! They give you like 10 items in ...</td>\n",
       "    </tr>\n",
       "    <tr>\n",
       "      <th>2</th>\n",
       "      <td>5</td>\n",
       "      <td>I love that I have a personal shopper at my fi...</td>\n",
       "    </tr>\n",
       "    <tr>\n",
       "      <th>3</th>\n",
       "      <td>5</td>\n",
       "      <td>I love that you send so many pieces! Great var...</td>\n",
       "    </tr>\n",
       "    <tr>\n",
       "      <th>4</th>\n",
       "      <td>5</td>\n",
       "      <td>My stylist, Annie has been terrific about comm...</td>\n",
       "    </tr>\n",
       "    <tr>\n",
       "      <th>...</th>\n",
       "      <td>...</td>\n",
       "      <td>...</td>\n",
       "    </tr>\n",
       "    <tr>\n",
       "      <th>1617</th>\n",
       "      <td>5</td>\n",
       "      <td>I love their options and custom clothing sugge...</td>\n",
       "    </tr>\n",
       "    <tr>\n",
       "      <th>1618</th>\n",
       "      <td>5</td>\n",
       "      <td>So much better than StitchFix. My stylist actu...</td>\n",
       "    </tr>\n",
       "    <tr>\n",
       "      <th>1619</th>\n",
       "      <td>5</td>\n",
       "      <td>I'm on my 10th box now. I hate shopping and I ...</td>\n",
       "    </tr>\n",
       "    <tr>\n",
       "      <th>1620</th>\n",
       "      <td>1</td>\n",
       "      <td>In early June, I ordered a quarterly subscript...</td>\n",
       "    </tr>\n",
       "    <tr>\n",
       "      <th>1621</th>\n",
       "      <td>2</td>\n",
       "      <td>I scheduled my first box the be delivered the ...</td>\n",
       "    </tr>\n",
       "  </tbody>\n",
       "</table>\n",
       "<p>1622 rows × 2 columns</p>\n",
       "</div>"
      ],
      "text/plain": [
       "      Rating out of 5                                   Customer_Reviews\n",
       "0                   5  I love the surprises my stylist sends me in ea...\n",
       "1                   1  DON’T DO IT!!! They give you like 10 items in ...\n",
       "2                   5  I love that I have a personal shopper at my fi...\n",
       "3                   5  I love that you send so many pieces! Great var...\n",
       "4                   5  My stylist, Annie has been terrific about comm...\n",
       "...               ...                                                ...\n",
       "1617                5  I love their options and custom clothing sugge...\n",
       "1618                5  So much better than StitchFix. My stylist actu...\n",
       "1619                5  I'm on my 10th box now. I hate shopping and I ...\n",
       "1620                1  In early June, I ordered a quarterly subscript...\n",
       "1621                2  I scheduled my first box the be delivered the ...\n",
       "\n",
       "[1622 rows x 2 columns]"
      ]
     },
     "execution_count": 2,
     "metadata": {},
     "output_type": "execute_result"
    }
   ],
   "source": [
    "dailyreview = pd.read_excel(\"C:\\\\Users\\\\rache\\\\OneDrive\\\\Desktop\\\\Practicum Project\\\\Daily look reviews.xlsx\")\n",
    "dailyreview"
   ]
  },
  {
   "cell_type": "code",
   "execution_count": 5,
   "id": "dd33a33b",
   "metadata": {},
   "outputs": [
    {
     "data": {
      "text/plain": [
       "1547"
      ]
     },
     "execution_count": 5,
     "metadata": {},
     "output_type": "execute_result"
    }
   ],
   "source": [
    "dailyreviewdp = dailyreview.dropna()\n",
    "len(dailyreviewdp)"
   ]
  },
  {
   "cell_type": "code",
   "execution_count": 6,
   "id": "a1d5c714",
   "metadata": {},
   "outputs": [
    {
     "data": {
      "text/html": [
       "<div>\n",
       "<style scoped>\n",
       "    .dataframe tbody tr th:only-of-type {\n",
       "        vertical-align: middle;\n",
       "    }\n",
       "\n",
       "    .dataframe tbody tr th {\n",
       "        vertical-align: top;\n",
       "    }\n",
       "\n",
       "    .dataframe thead th {\n",
       "        text-align: right;\n",
       "    }\n",
       "</style>\n",
       "<table border=\"1\" class=\"dataframe\">\n",
       "  <thead>\n",
       "    <tr style=\"text-align: right;\">\n",
       "      <th></th>\n",
       "      <th>ratings</th>\n",
       "      <th>reviews</th>\n",
       "    </tr>\n",
       "  </thead>\n",
       "  <tbody>\n",
       "    <tr>\n",
       "      <th>0</th>\n",
       "      <td>5</td>\n",
       "      <td>I love the surprises my stylist sends me in ea...</td>\n",
       "    </tr>\n",
       "    <tr>\n",
       "      <th>1</th>\n",
       "      <td>1</td>\n",
       "      <td>DON’T DO IT!!! They give you like 10 items in ...</td>\n",
       "    </tr>\n",
       "    <tr>\n",
       "      <th>2</th>\n",
       "      <td>5</td>\n",
       "      <td>I love that I have a personal shopper at my fi...</td>\n",
       "    </tr>\n",
       "    <tr>\n",
       "      <th>3</th>\n",
       "      <td>5</td>\n",
       "      <td>I love that you send so many pieces! Great var...</td>\n",
       "    </tr>\n",
       "    <tr>\n",
       "      <th>4</th>\n",
       "      <td>5</td>\n",
       "      <td>My stylist, Annie has been terrific about comm...</td>\n",
       "    </tr>\n",
       "  </tbody>\n",
       "</table>\n",
       "</div>"
      ],
      "text/plain": [
       "   ratings                                            reviews\n",
       "0        5  I love the surprises my stylist sends me in ea...\n",
       "1        1  DON’T DO IT!!! They give you like 10 items in ...\n",
       "2        5  I love that I have a personal shopper at my fi...\n",
       "3        5  I love that you send so many pieces! Great var...\n",
       "4        5  My stylist, Annie has been terrific about comm..."
      ]
     },
     "execution_count": 6,
     "metadata": {},
     "output_type": "execute_result"
    }
   ],
   "source": [
    "dailyreviewdp = dailyreviewdp.rename(columns={'Customer_Reviews': 'reviews','Rating out of 5' : 'ratings'})\n",
    "dailyreviewdp.head()"
   ]
  },
  {
   "cell_type": "code",
   "execution_count": 7,
   "id": "d4e1938b",
   "metadata": {},
   "outputs": [],
   "source": [
    "def create_sentiment(ratings):\n",
    "    if ratings==1 or ratings==2:\n",
    "        return -1 # negative sentiment\n",
    "    elif ratings==4 or ratings==5:\n",
    "        return 1 # positive sentiment\n",
    "    else:\n",
    "        return 0 # neutral sentiment"
   ]
  },
  {
   "cell_type": "code",
   "execution_count": 8,
   "id": "5a37ba8e",
   "metadata": {},
   "outputs": [],
   "source": [
    "import warnings\n",
    "warnings.filterwarnings(\"ignore\")"
   ]
  },
  {
   "cell_type": "code",
   "execution_count": 10,
   "id": "a24e2b87",
   "metadata": {},
   "outputs": [
    {
     "data": {
      "text/html": [
       "<div>\n",
       "<style scoped>\n",
       "    .dataframe tbody tr th:only-of-type {\n",
       "        vertical-align: middle;\n",
       "    }\n",
       "\n",
       "    .dataframe tbody tr th {\n",
       "        vertical-align: top;\n",
       "    }\n",
       "\n",
       "    .dataframe thead th {\n",
       "        text-align: right;\n",
       "    }\n",
       "</style>\n",
       "<table border=\"1\" class=\"dataframe\">\n",
       "  <thead>\n",
       "    <tr style=\"text-align: right;\">\n",
       "      <th></th>\n",
       "      <th>ratings</th>\n",
       "      <th>reviews</th>\n",
       "      <th>sentiment</th>\n",
       "    </tr>\n",
       "  </thead>\n",
       "  <tbody>\n",
       "    <tr>\n",
       "      <th>0</th>\n",
       "      <td>5</td>\n",
       "      <td>I love the surprises my stylist sends me in ea...</td>\n",
       "      <td>1</td>\n",
       "    </tr>\n",
       "    <tr>\n",
       "      <th>1</th>\n",
       "      <td>1</td>\n",
       "      <td>DON’T DO IT!!! They give you like 10 items in ...</td>\n",
       "      <td>-1</td>\n",
       "    </tr>\n",
       "    <tr>\n",
       "      <th>2</th>\n",
       "      <td>5</td>\n",
       "      <td>I love that I have a personal shopper at my fi...</td>\n",
       "      <td>1</td>\n",
       "    </tr>\n",
       "    <tr>\n",
       "      <th>3</th>\n",
       "      <td>5</td>\n",
       "      <td>I love that you send so many pieces! Great var...</td>\n",
       "      <td>1</td>\n",
       "    </tr>\n",
       "    <tr>\n",
       "      <th>4</th>\n",
       "      <td>5</td>\n",
       "      <td>My stylist, Annie has been terrific about comm...</td>\n",
       "      <td>1</td>\n",
       "    </tr>\n",
       "  </tbody>\n",
       "</table>\n",
       "</div>"
      ],
      "text/plain": [
       "   ratings                                            reviews  sentiment\n",
       "0        5  I love the surprises my stylist sends me in ea...          1\n",
       "1        1  DON’T DO IT!!! They give you like 10 items in ...         -1\n",
       "2        5  I love that I have a personal shopper at my fi...          1\n",
       "3        5  I love that you send so many pieces! Great var...          1\n",
       "4        5  My stylist, Annie has been terrific about comm...          1"
      ]
     },
     "execution_count": 10,
     "metadata": {},
     "output_type": "execute_result"
    }
   ],
   "source": [
    "dailyreviewdp['sentiment'] = dailyreviewdp['ratings'].apply(create_sentiment)\n",
    "dailyreviewdp.head()"
   ]
  },
  {
   "cell_type": "code",
   "execution_count": 11,
   "id": "47dec9f4",
   "metadata": {},
   "outputs": [],
   "source": [
    "#change to lowercase\n",
    "dailyreviewdp['reviews'] = dailyreviewdp['reviews'].str.lower()"
   ]
  },
  {
   "cell_type": "code",
   "execution_count": 12,
   "id": "cbdb3b13",
   "metadata": {},
   "outputs": [],
   "source": [
    "punct = '!\"#$%&\\'()*+,-./:;<=>?@[\\\\]^_`{}~'   # `|` is not present here\n",
    "transtab = str.maketrans(dict.fromkeys(punct, ''))\n",
    "dailyreviewdp['reviews'] = '|'.join(dailyreviewdp['reviews'].tolist()).translate(transtab).split('|')"
   ]
  },
  {
   "cell_type": "code",
   "execution_count": 16,
   "id": "b9d7b70d",
   "metadata": {},
   "outputs": [],
   "source": [
    "#remove emojis\n",
    "def remove_emoji(reviews):\n",
    "    emoji_pattern = re.compile(\"[\"\n",
    "                               u\"\\U0001F600-\\U0001F64F\"  # emoticons\n",
    "                               u\"\\U0001F300-\\U0001F5FF\"  # symbols & pictographs\n",
    "                               u\"\\U0001F680-\\U0001F6FF\"  # transport & map symbols\n",
    "                               u\"\\U0001F1E0-\\U0001F1FF\"  # flags (iOS)\n",
    "                               u\"\\U00002500-\\U00002BEF\"  # chinese char\n",
    "                               u\"\\U00002702-\\U000027B0\"\n",
    "                               u\"\\U00002702-\\U000027B0\"\n",
    "                               u\"\\U000024C2-\\U0001F251\"\n",
    "                               u\"\\U0001f926-\\U0001f937\"\n",
    "                               u\"\\U00010000-\\U0010ffff\"\n",
    "                               u\"\\u2640-\\u2642\"\n",
    "                               u\"\\u2600-\\u2B55\"\n",
    "                               u\"\\u200d\"\n",
    "                               u\"\\u23cf\"\n",
    "                               u\"\\u23e9\"\n",
    "                               u\"\\u231a\"\n",
    "                               u\"\\ufe0f\"  # dingbats\n",
    "                               u\"\\u3030\"\n",
    "                               \"]+\", flags=re.UNICODE)\n",
    "    return emoji_pattern.sub(r'', reviews)"
   ]
  },
  {
   "cell_type": "code",
   "execution_count": 17,
   "id": "bd8152be",
   "metadata": {},
   "outputs": [
    {
     "data": {
      "text/plain": [
       "'let me just say that the clothes that i get the most compliments on are the ones that were picked for me by dailylook i think thats about the best recommendation there is'"
      ]
     },
     "execution_count": 17,
     "metadata": {},
     "output_type": "execute_result"
    }
   ],
   "source": [
    "#removing emojis\n",
    "dailyreviewdp['reviews'] = dailyreviewdp['reviews'].apply(remove_emoji)\n",
    "dailyreviewdp['reviews'][744]"
   ]
  },
  {
   "cell_type": "code",
   "execution_count": 18,
   "id": "c0123f59",
   "metadata": {},
   "outputs": [],
   "source": [
    "#Convert textual data into a numeric representation\n",
    "from sklearn.feature_extraction.text import TfidfVectorizer\n",
    "\n",
    "tfidf = TfidfVectorizer(strip_accents=None, \n",
    "                        lowercase=False,\n",
    "                        preprocessor=None)\n",
    "\n",
    "X = tfidf.fit_transform(dailyreviewdp['reviews'])"
   ]
  },
  {
   "cell_type": "code",
   "execution_count": null,
   "id": "732aa2ba",
   "metadata": {},
   "outputs": [],
   "source": []
  },
  {
   "cell_type": "code",
   "execution_count": null,
   "id": "73e1e925",
   "metadata": {},
   "outputs": [],
   "source": []
  },
  {
   "cell_type": "code",
   "execution_count": null,
   "id": "60a812f8",
   "metadata": {},
   "outputs": [],
   "source": []
  },
  {
   "cell_type": "code",
   "execution_count": null,
   "id": "b778813f",
   "metadata": {},
   "outputs": [],
   "source": []
  },
  {
   "cell_type": "code",
   "execution_count": null,
   "id": "f55349fd",
   "metadata": {},
   "outputs": [],
   "source": []
  },
  {
   "cell_type": "code",
   "execution_count": null,
   "id": "9fb4055e",
   "metadata": {},
   "outputs": [],
   "source": []
  }
 ],
 "metadata": {
  "kernelspec": {
   "display_name": "Python 3 (ipykernel)",
   "language": "python",
   "name": "python3"
  },
  "language_info": {
   "codemirror_mode": {
    "name": "ipython",
    "version": 3
   },
   "file_extension": ".py",
   "mimetype": "text/x-python",
   "name": "python",
   "nbconvert_exporter": "python",
   "pygments_lexer": "ipython3",
   "version": "3.9.7"
  }
 },
 "nbformat": 4,
 "nbformat_minor": 5
}
